{
 "cells": [
  {
   "cell_type": "code",
   "execution_count": 283,
   "id": "1f07b3af",
   "metadata": {},
   "outputs": [],
   "source": [
    "import pandas as pd\n",
    "import numpy as np\n",
    "import matplotlib.pyplot as plt\n",
    "import statsmodels.api as sm \n",
    "\n",
    "from tqdm import tqdm\n",
    "import math"
   ]
  },
  {
   "cell_type": "markdown",
   "id": "6cec4777",
   "metadata": {},
   "source": [
    "# Creating the Dataset"
   ]
  },
  {
   "cell_type": "markdown",
   "id": "d21b1664",
   "metadata": {},
   "source": [
    "We will be working with a basic training dataset that has a roughly linear relationship\n",
    "$$y=\\beta^Tx+\\epsilon$$\n",
    "where $\\epsilon \\sim \\mathcal{N}(0,0.1)$ is some gaussian noise.\n",
    "\n",
    "For ease of plotting, we will consider the case of $x$ representing one-dimensional data, so that each element of $X$ is given by a vector $x = \\begin{bmatrix} 1, x_0 \\end{bmatrix}$."
   ]
  },
  {
   "cell_type": "code",
   "execution_count": 284,
   "id": "49df0b4b",
   "metadata": {},
   "outputs": [],
   "source": [
    "pos_samples = 100\n",
    "neg_samples = 100\n",
    "\n",
    "\n",
    "pos_mean = 4\n",
    "pos_sd = 1\n",
    "pos_examples = -np.random.normal(loc = -pos_mean, scale = pos_sd, size = pos_samples)\n",
    "\n",
    "\n",
    "neg_mean = 1\n",
    "neg_sd = 1\n",
    "neg_examples = -np.random.normal(loc = -neg_mean, scale = neg_sd, size = neg_samples)\n",
    "\n",
    "X = sm.add_constant(np.concatenate((pos_examples, neg_examples)))\n",
    "y = np.concatenate((np.ones(pos_samples), np.zeros(neg_samples)))"
   ]
  },
  {
   "cell_type": "code",
   "execution_count": 285,
   "id": "13f1722e",
   "metadata": {},
   "outputs": [
    {
     "data": {
      "image/png": "[encoded data removed]",
      "text/plain": [
       "<Figure size 576x216 with 1 Axes>"
      ]
     },
     "metadata": {
      "needs_background": "light"
     },
     "output_type": "display_data"
    }
   ],
   "source": [
    "# Here, we plot the data generated above.\n",
    "\n",
    "plt.figure(figsize=(8,3))\n",
    "plt.scatter(X[:, 1],y)\n",
    "plt.scatter([pos_mean], 1, color=\"red\")\n",
    "plt.scatter([neg_mean], 0, color=\"red\")\n",
    "plt.show()"
   ]
  },
  {
   "cell_type": "markdown",
   "id": "d6d2e9ff",
   "metadata": {},
   "source": [
    "# Implementing SGD"
   ]
  },
  {
   "cell_type": "markdown",
   "id": "9e577301",
   "metadata": {},
   "source": [
    "We want to find $\\text{argmin}_{\\beta} L(\\beta)$, where the loss function $L(\\beta)$ is the Log Loss:\n",
    "$$L(\\beta) = -\\frac{1}{n} \\sum_{i=1}^n y_i\\log(\\hat{p}_i)+(1-y_i)\\log(1-\\hat{p}_i)$$\n",
    "Where $$\\hat{p}_i = \\frac{1}{1+e^{-\\beta^Tx}}=\\sigma(\\beta^Tx)$$\n",
    "\n",
    "To accomplish this with Gradient Descent, we use the update rule\n",
    "$$\\beta \\leftarrow \\beta - \\eta \\nabla_{\\beta} L$$\n"
   ]
  },
  {
   "cell_type": "markdown",
   "id": "1661fceb",
   "metadata": {},
   "source": [
    "However, computing $\\nabla_\\beta L$ can be very constly when the size of our dataset $X$ is large. To approximate it, we use Stochastic Gradient Descent. First, we choose some random element $x_i$ from our dataset (hence \"stochastic\") and consider the loss of a single sample $x_i$:\n",
    "\n",
    "Useful properties of the sigmoid function:\n",
    "$$\\begin{align*}\n",
    "\\sigma(x)+\\sigma(-x) &= 1 & \\frac{d}{dx} \\sigma(x) = \\sigma(x)\\sigma(-x)\\\\\n",
    "\\end{align*}$$\n",
    "With these properties, we derive the derivative of the loss function.\n",
    "$$\\hat{L}(\\beta) = -[y_i\\log(\\sigma(\\beta^Tx))+(1-y_i)\\log(\\sigma(-\\beta^Tx))]$$\n",
    "Taking the derivative, we see that\n",
    "$$\\begin{align*} \\nabla_\\beta \\hat{L} &= -[\\frac{d}{d\\beta} (y_i\\log(\\sigma(\\beta^Tx))+(1-y_i)\\log(\\sigma(-\\beta^Tx)))]\\\\\n",
    "&= -[y_i \\frac{1}{\\sigma(\\beta^Tx)}\\sigma(\\beta^Tx)\\sigma(-\\beta^Tx)x +(1-y_i)\\frac{1}{\\sigma(-\\beta^Tx)}\\sigma(-\\beta^Tx)\\sigma(\\beta^Tx)x]\\\\\n",
    "&= -[y_i \\sigma(-\\beta^Tx)x+(1-y_i)\\sigma(\\beta^Tx)(-x)]\\\\\n",
    "&= -[(y_i\\sigma(-\\beta^Tx)-\\sigma(\\beta^Tx)+y_i\\sigma(\\beta^Tx))]\\\\\n",
    "&= -[(y_i(\\sigma(\\beta^Tx)+\\sigma(-\\beta^T)x)-\\sigma(\\beta^Tx))x]\\\\\n",
    "&= -(y_i-\\sigma(\\beta^Tx))x\n",
    "\\end{align*}$$\n",
    "Hence, we use the update rule\n",
    "$$\\beta \\leftarrow \\beta+\\eta(y_i-\\sigma(\\beta^Tx))x$$"
   ]
  },
  {
   "cell_type": "code",
   "execution_count": 286,
   "id": "8d9ecc3b",
   "metadata": {},
   "outputs": [],
   "source": [
    "def sigmoid(x):\n",
    "    return 1/(1+math.e**(-x))"
   ]
  },
  {
   "cell_type": "code",
   "execution_count": 287,
   "id": "9301f3ce",
   "metadata": {},
   "outputs": [],
   "source": [
    "def SGD(X, y, time_steps):\n",
    "    beta = np.zeros(X.shape[1]) # We initialize beta\n",
    "\n",
    "    for t in tqdm(np.arange(1,time_steps+1)):\n",
    "        index = np.random.randint(0,X.shape[0]) # Select a random index\n",
    "\n",
    "        x = X[index]\n",
    "        y_true = y[index]\n",
    "        y_hat = sigmoid(np.transpose(beta)@x) # Our prediction is y_i = sigmoid(beta^T x_i)\n",
    "\n",
    "        eta = 1/math.sqrt(t) # Define the learning rate as 1/sqrt(t)\n",
    "        g = -(y_true-y_hat)*x # Use our formula for the gradient, as derived earlier\n",
    "\n",
    "\n",
    "        beta -= eta*g # Update beta according to our update rule\n",
    "        \n",
    "    return beta"
   ]
  },
  {
   "cell_type": "markdown",
   "id": "18b59eb9",
   "metadata": {},
   "source": [
    "Running this algorithm on our example dataset with 1e5 timesteps yields good results:"
   ]
  },
  {
   "cell_type": "code",
   "execution_count": 288,
   "id": "f409a569",
   "metadata": {},
   "outputs": [
    {
     "name": "stderr",
     "output_type": "stream",
     "text": [
      "100%|████████████████████████████████| 100000/100000 [00:02<00:00, 36824.84it/s]\n"
     ]
    }
   ],
   "source": [
    "beta_hat = SGD(X,y,1e5)"
   ]
  },
  {
   "cell_type": "code",
   "execution_count": 290,
   "id": "c0fa29b9",
   "metadata": {},
   "outputs": [
    {
     "data": {
      "image/png": "[encoded data removed]",
      "text/plain": [
       "<Figure size 576x360 with 1 Axes>"
      ]
     },
     "metadata": {
      "needs_background": "light"
     },
     "output_type": "display_data"
    }
   ],
   "source": [
    "plt.figure(figsize=(8,5))\n",
    "plt.scatter(X[:, 1],y)\n",
    "\n",
    "domain = np.arange(np.min(X[:, 1]), np.max(X[:, 1])+0.1, step=0.01)\n",
    "plt.plot(domain, 1/(1+math.e**(-beta_hat[0]-beta_hat[1]*domain)), color=\"red\", linewidth=3)\n",
    "plt.scatter([pos_mean], 1, color=\"red\")\n",
    "plt.scatter([neg_mean], 0, color=\"red\")\n",
    "plt.show()"
   ]
  }
 ],
 "metadata": {
  "kernelspec": {
   "display_name": "Python 3 (ipykernel)",
   "language": "python",
   "name": "python3"
  },
  "language_info": {
   "codemirror_mode": {
    "name": "ipython",
    "version": 3
   },
   "file_extension": ".py",
   "mimetype": "text/x-python",
   "name": "python",
   "nbconvert_exporter": "python",
   "pygments_lexer": "ipython3",
   "version": "3.9.7"
  }
 },
 "nbformat": 4,
 "nbformat_minor": 5
}
